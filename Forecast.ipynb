{
 "cells": [
  {
   "cell_type": "code",
   "execution_count": 5,
   "id": "9a379238",
   "metadata": {
    "id": "9a379238"
   },
   "outputs": [
    {
     "ename": "ModuleNotFoundError",
     "evalue": "No module named 'easypreprocessing'",
     "output_type": "error",
     "traceback": [
      "\u001b[1;31m---------------------------------------------------------------------------\u001b[0m",
      "\u001b[1;31mModuleNotFoundError\u001b[0m                       Traceback (most recent call last)",
      "Cell \u001b[1;32mIn[5], line 3\u001b[0m\n\u001b[0;32m      1\u001b[0m \u001b[38;5;28;01mimport\u001b[39;00m \u001b[38;5;21;01mnumpy\u001b[39;00m \u001b[38;5;28;01mas\u001b[39;00m \u001b[38;5;21;01mnp\u001b[39;00m\n\u001b[0;32m      2\u001b[0m \u001b[38;5;28;01mimport\u001b[39;00m \u001b[38;5;21;01mpandas\u001b[39;00m \u001b[38;5;28;01mas\u001b[39;00m \u001b[38;5;21;01mpd\u001b[39;00m\n\u001b[1;32m----> 3\u001b[0m \u001b[38;5;28;01mfrom\u001b[39;00m \u001b[38;5;21;01measypreprocessing\u001b[39;00m \u001b[38;5;28;01mimport\u001b[39;00m EasyPreProcessing\n\u001b[0;32m      4\u001b[0m \u001b[38;5;28;01mimport\u001b[39;00m \u001b[38;5;21;01mseaborn\u001b[39;00m \u001b[38;5;28;01mas\u001b[39;00m \u001b[38;5;21;01msns\u001b[39;00m\n\u001b[0;32m      5\u001b[0m \u001b[38;5;28;01mimport\u001b[39;00m \u001b[38;5;21;01mmatplotlib\u001b[39;00m\n",
      "\u001b[1;31mModuleNotFoundError\u001b[0m: No module named 'easypreprocessing'"
     ]
    }
   ],
   "source": [
    "import numpy as np\n",
    "import pandas as pd\n",
    "from easypreprocessing import EasyPreProcessing\n",
    "import seaborn as sns\n",
    "import matplotlib\n",
    "import matplotlib.pyplot as plt\n",
    "import math\n",
    "import scipy.stats as stats"
   ]
  },
  {
   "cell_type": "markdown",
   "id": "utRDFj306BQd",
   "metadata": {
    "id": "utRDFj306BQd"
   },
   "source": [
    "Easypreprocessing is a library used for common ML related preprocessing activities."
   ]
  },
  {
   "cell_type": "code",
   "execution_count": null,
   "id": "a4800836",
   "metadata": {
    "colab": {
     "base_uri": "https://localhost:8080/",
     "height": 181
    },
    "id": "a4800836",
    "outputId": "00e5af54-c3b2-4f62-a92e-fb5dc88ee108"
   },
   "outputs": [],
   "source": [
    "prep = EasyPreProcessing('train.csv')"
   ]
  },
  {
   "cell_type": "code",
   "execution_count": null,
   "id": "1da3fbb4",
   "metadata": {
    "colab": {
     "base_uri": "https://localhost:8080/",
     "height": 513
    },
    "id": "1da3fbb4",
    "outputId": "eaedbda5-b661-4628-d8c5-c66471a886ba"
   },
   "outputs": [],
   "source": [
    "prep.info"
   ]
  },
  {
   "cell_type": "markdown",
   "id": "BshglGY-06v3",
   "metadata": {
    "id": "BshglGY-06v3"
   },
   "source": [
    "# Handling Null Values"
   ]
  },
  {
   "cell_type": "code",
   "execution_count": null,
   "id": "4f7b3268",
   "metadata": {
    "colab": {
     "base_uri": "https://localhost:8080/",
     "height": 0
    },
    "id": "4f7b3268",
    "outputId": "5ccf3164-b4ac-499f-f3f4-ad13a61feb7b"
   },
   "outputs": [],
   "source": [
    "prep.categorical.fields"
   ]
  },
  {
   "cell_type": "code",
   "execution_count": null,
   "id": "63c310c1",
   "metadata": {
    "colab": {
     "base_uri": "https://localhost:8080/",
     "height": 0
    },
    "id": "63c310c1",
    "outputId": "384ba317-b41a-4435-c2a2-329a314b9396"
   },
   "outputs": [],
   "source": [
    "prep.numerical.fields"
   ]
  },
  {
   "cell_type": "code",
   "execution_count": null,
   "id": "9f6d574c",
   "metadata": {
    "colab": {
     "base_uri": "https://localhost:8080/",
     "height": 0
    },
    "id": "9f6d574c",
    "outputId": "107a5d6c-c2fc-4932-97e9-1da9a9023812"
   },
   "outputs": [],
   "source": [
    "prep.missing_values"
   ]
  },
  {
   "cell_type": "code",
   "execution_count": null,
   "id": "e93ac063",
   "metadata": {
    "colab": {
     "base_uri": "https://localhost:8080/",
     "height": 0
    },
    "id": "e93ac063",
    "outputId": "e29efb96-f8a3-47f9-9c31-dbf0b8e66f04"
   },
   "outputs": [],
   "source": [
    "prep.numerical.impute()"
   ]
  },
  {
   "cell_type": "code",
   "execution_count": null,
   "id": "3cae76a5",
   "metadata": {
    "colab": {
     "base_uri": "https://localhost:8080/",
     "height": 419
    },
    "id": "3cae76a5",
    "outputId": "8b92b0ac-6752-4a09-e6c9-4bb5cddfdd41"
   },
   "outputs": [],
   "source": [
    "prep.df"
   ]
  },
  {
   "cell_type": "markdown",
   "id": "IGBHqkqG6omu",
   "metadata": {
    "id": "IGBHqkqG6omu"
   },
   "source": [
    "Create a new column 'key' for unique identification. This is done in order to handle the duplicate data in 'week' column."
   ]
  },
  {
   "cell_type": "code",
   "execution_count": null,
   "id": "49b8dd2e",
   "metadata": {
    "id": "49b8dd2e"
   },
   "outputs": [],
   "source": [
    "prep.dataset['key'] = prep.df['week'].astype(str) + '_' + prep.df['store_id'].astype(str) "
   ]
  },
  {
   "cell_type": "markdown",
   "id": "z7hT7LaO69Hd",
   "metadata": {
    "id": "z7hT7LaO69Hd"
   },
   "source": [
    "Removing columns that are not helpful for time series predictions."
   ]
  },
  {
   "cell_type": "code",
   "execution_count": null,
   "id": "9fe2080c",
   "metadata": {
    "id": "9fe2080c"
   },
   "outputs": [],
   "source": [
    "prep.dataset = prep.df.drop(['record_ID', 'week', 'store_id', 'sku_id', 'total_price', 'base_price', 'is_featured_sku', 'is_display_sku'], axis=1)"
   ]
  },
  {
   "cell_type": "markdown",
   "id": "D8m9gacZ7GVo",
   "metadata": {
    "id": "D8m9gacZ7GVo"
   },
   "source": [
    "Summing units_sold group by key."
   ]
  },
  {
   "cell_type": "code",
   "execution_count": null,
   "id": "27249410",
   "metadata": {
    "id": "27249410"
   },
   "outputs": [],
   "source": [
    "prep.dataset = prep.df.groupby('key').sum()"
   ]
  },
  {
   "cell_type": "code",
   "execution_count": null,
   "id": "cc63d75b",
   "metadata": {
    "colab": {
     "base_uri": "https://localhost:8080/",
     "height": 450
    },
    "id": "cc63d75b",
    "outputId": "d198953a-43ec-4536-f300-6c731fd87dab"
   },
   "outputs": [],
   "source": [
    "prep.df"
   ]
  },
  {
   "cell_type": "code",
   "execution_count": null,
   "id": "3ccdda76",
   "metadata": {
    "colab": {
     "base_uri": "https://localhost:8080/",
     "height": 515
    },
    "id": "3ccdda76",
    "outputId": "50773e21-2c81-4d28-8663-f3d24f147426"
   },
   "outputs": [],
   "source": [
    "prep.df[:100].plot(figsize=(12,8))"
   ]
  },
  {
   "cell_type": "markdown",
   "id": "3v9b1fXk8f-4",
   "metadata": {
    "id": "3v9b1fXk8f-4"
   },
   "source": [
    "# Converting supervised dataset\n",
    "\n",
    "```units_sold``` becomes target variable\n",
    "\n",
    "```day_1```, ```day_2```, ```day_3```, ```day_4``` becomes input\n",
    "\n",
    "We will train our model to predict sales based on previous 4 days."
   ]
  },
  {
   "cell_type": "code",
   "execution_count": null,
   "id": "111e0b85",
   "metadata": {
    "id": "111e0b85"
   },
   "outputs": [],
   "source": [
    "prep.df['day_1'] = prep.df['units_sold'].shift(-1)\n",
    "prep.df['day_2'] = prep.df['units_sold'].shift(-2)\n",
    "prep.df['day_3'] = prep.df['units_sold'].shift(-3)\n",
    "prep.df['day_4'] = prep.df['units_sold'].shift(-4)"
   ]
  },
  {
   "cell_type": "code",
   "execution_count": null,
   "id": "43789182",
   "metadata": {
    "colab": {
     "base_uri": "https://localhost:8080/",
     "height": 450
    },
    "id": "43789182",
    "outputId": "d47ce286-eef8-4edb-81b1-75598ab2c189"
   },
   "outputs": [],
   "source": [
    "prep.df"
   ]
  },
  {
   "cell_type": "markdown",
   "id": "21Q03RPQ8r2u",
   "metadata": {
    "id": "21Q03RPQ8r2u"
   },
   "source": [
    "Remove NA data"
   ]
  },
  {
   "cell_type": "code",
   "execution_count": null,
   "id": "e6043660",
   "metadata": {
    "id": "e6043660"
   },
   "outputs": [],
   "source": [
    "df = prep.df.dropna()"
   ]
  },
  {
   "cell_type": "code",
   "execution_count": null,
   "id": "1f766163",
   "metadata": {
    "colab": {
     "base_uri": "https://localhost:8080/",
     "height": 515
    },
    "id": "1f766163",
    "outputId": "647cb86c-f7b8-4030-cefb-852c94c73b2a"
   },
   "outputs": [],
   "source": [
    "df[:100].plot(figsize=(12,8))"
   ]
  },
  {
   "cell_type": "markdown",
   "id": "Niv47rYI95Oh",
   "metadata": {
    "id": "Niv47rYI95Oh"
   },
   "source": [
    "# Train-Test Split"
   ]
  },
  {
   "cell_type": "code",
   "execution_count": null,
   "id": "007653e6",
   "metadata": {
    "id": "007653e6"
   },
   "outputs": [],
   "source": [
    "x1, x2, x3, x4, y = df['day_1'], df['day_2'], df['day_3'], df['day_4'], df['units_sold']\n",
    "x1, x2, x3, x4, y = np.array(x1), np.array(x2), np.array(x3), np.array(x4), np.array(y)\n",
    "x1, x2, x3, x4, y = x1.reshape(-1,1), x2.reshape(-1,1), x3.reshape(-1,1), x4.reshape(-1,1), y.reshape(-1,1)\n",
    "\n",
    "split_percentage = 15\n",
    "test_split = int(len(df)*(split_percentage/100))\n",
    "x = np.concatenate((x1, x2, x3, x4), axis=1)\n",
    "X_train,X_test,y_train,y_test = x[:-test_split],x[-test_split:],y[:-test_split],y[-test_split:]"
   ]
  },
  {
   "cell_type": "code",
   "execution_count": null,
   "id": "7fcb91e0",
   "metadata": {},
   "outputs": [],
   "source": [
    "print(X_train.shape)\n",
    "print(X_test.shape)\n",
    "print(y_train.shape)\n",
    "print(y_test.shape)"
   ]
  },
  {
   "cell_type": "markdown",
   "id": "wcdaxZ5T-x7Q",
   "metadata": {
    "id": "wcdaxZ5T-x7Q"
   },
   "source": [
    "# Random Forest Regression"
   ]
  },
  {
   "cell_type": "code",
   "execution_count": null,
   "id": "805a2661",
   "metadata": {
    "colab": {
     "base_uri": "https://localhost:8080/",
     "height": 0
    },
    "id": "805a2661",
    "outputId": "eb69714d-9be9-4814-8903-f98bd67c20b7"
   },
   "outputs": [],
   "source": [
    "from sklearn.ensemble import RandomForestRegressor\n",
    "rf_regressor = RandomForestRegressor()\n",
    "rf_regressor.fit(X_train, y_train)\n",
    "\n",
    "y_pred = rf_regressor.predict(X_test)"
   ]
  },
  {
   "cell_type": "code",
   "execution_count": null,
   "id": "0783176d",
   "metadata": {
    "colab": {
     "base_uri": "https://localhost:8080/",
     "height": 0
    },
    "id": "0783176d",
    "outputId": "e64c5e0a-3939-4b4a-9499-8b4b83ab8793"
   },
   "outputs": [],
   "source": [
    "print(\"R Sq. Score for Random Forest Regression :\", rf_regressor.score(X_test, y_test))"
   ]
  },
  {
   "cell_type": "code",
   "execution_count": null,
   "id": "9e475a6c",
   "metadata": {
    "colab": {
     "base_uri": "https://localhost:8080/",
     "height": 483
    },
    "id": "9e475a6c",
    "outputId": "8d9b8044-08e9-4270-f0eb-1d671d8884e9"
   },
   "outputs": [],
   "source": [
    "import matplotlib.pyplot as plt\n",
    "plt.rcParams[\"figure.figsize\"] = (12,8)\n",
    "plt.plot(y_pred[-100:], label='Predictions')\n",
    "plt.plot(y_test[-100:], label='Actual Sales')\n",
    "plt.legend(loc=\"upper left\")\n",
    "plt.show()"
   ]
  },
  {
   "cell_type": "markdown",
   "id": "5fzJ1K5G-5BJ",
   "metadata": {
    "id": "5fzJ1K5G-5BJ"
   },
   "source": [
    "# XGBoost Regression"
   ]
  },
  {
   "cell_type": "code",
   "execution_count": null,
   "id": "f3feaf61",
   "metadata": {
    "colab": {
     "base_uri": "https://localhost:8080/",
     "height": 0
    },
    "id": "f3feaf61",
    "outputId": "6cb367fb-09a2-4f1d-ea50-052c781236fa"
   },
   "outputs": [],
   "source": [
    "import xgboost\n",
    "xgb_regressor = xgboost.XGBRegressor()\n",
    "xgb_regressor.fit(X_train, y_train)\n",
    "\n",
    "y_pred = xgb_regressor.predict(X_test)"
   ]
  },
  {
   "cell_type": "code",
   "execution_count": null,
   "id": "50ea4100",
   "metadata": {
    "colab": {
     "base_uri": "https://localhost:8080/",
     "height": 0
    },
    "id": "50ea4100",
    "outputId": "fbe31fb4-3fa0-47b0-f708-521fda320a06"
   },
   "outputs": [],
   "source": [
    "print(\"R Sq. Score for XGBoost :\", xgb_regressor.score(X_test, y_test))"
   ]
  },
  {
   "cell_type": "code",
   "execution_count": null,
   "id": "0b4d5a62",
   "metadata": {
    "colab": {
     "base_uri": "https://localhost:8080/",
     "height": 483
    },
    "id": "0b4d5a62",
    "outputId": "8c5bb065-109d-4e6f-e8b3-cb25a543b5b8",
    "scrolled": true
   },
   "outputs": [],
   "source": [
    "import matplotlib.pyplot as plt\n",
    "plt.plot(y_pred[-100:], label='Predictions')\n",
    "plt.plot(y_test[-100:], label='Actual Sales')\n",
    "plt.legend(loc=\"upper left\")\n",
    "plt.show()"
   ]
  },
  {
   "cell_type": "markdown",
   "id": "69309a83",
   "metadata": {
    "id": "69309a83"
   },
   "source": [
    "# Hyperparameter Tuning for Random Forest"
   ]
  },
  {
   "cell_type": "code",
   "execution_count": null,
   "id": "51ea87fb",
   "metadata": {
    "colab": {
     "base_uri": "https://localhost:8080/",
     "height": 0
    },
    "id": "51ea87fb",
    "outputId": "25b742b6-c1a2-46dd-f5a2-44775462bdaa"
   },
   "outputs": [],
   "source": [
    "from sklearn.model_selection import RandomizedSearchCV\n",
    "\n",
    "# Number of trees in random forest\n",
    "n_estimators = [int(x) for x in np.linspace(start = 50, stop = 250, num = 10)]\n",
    "# Number of features to consider at every split\n",
    "max_features = ['auto', 'sqrt']\n",
    "# Maximum number of levels in tree\n",
    "max_depth = [int(x) for x in np.linspace(0, 120, num = 20)]\n",
    "max_depth.append(None)\n",
    "# Minimum number of samples required to split a node\n",
    "min_samples_split = [2, 5, 10]\n",
    "# Minimum number of samples required at each leaf node\n",
    "min_samples_leaf = [1, 2, 4]\n",
    "# Method of selecting samples for training each tree\n",
    "bootstrap = [True, False]\n",
    "# Create the random grid\n",
    "random_grid = {'n_estimators': n_estimators,\n",
    "               'max_features': max_features,\n",
    "               'max_depth': max_depth,\n",
    "               'min_samples_split': min_samples_split,\n",
    "               'min_samples_leaf': min_samples_leaf,\n",
    "               'bootstrap': bootstrap}\n",
    "print(random_grid)"
   ]
  },
  {
   "cell_type": "code",
   "execution_count": null,
   "id": "37c0ff98",
   "metadata": {
    "id": "37c0ff98"
   },
   "outputs": [],
   "source": [
    "# Use the random grid to search for best hyperparameters\n",
    "# First create the base model to tune\n",
    "rf = RandomForestRegressor()\n",
    "# Random search of parameters, using 3 fold cross validation, \n",
    "# search across 100 different combinations, and use all available cores\n",
    "rf_random = RandomizedSearchCV(estimator = rf, param_distributions = random_grid, n_iter = 10, cv = 3, verbose=2, random_state=0, n_jobs = -1)"
   ]
  },
  {
   "cell_type": "code",
   "execution_count": null,
   "id": "Frld5g-DPmBS",
   "metadata": {
    "colab": {
     "base_uri": "https://localhost:8080/",
     "height": 0
    },
    "id": "Frld5g-DPmBS",
    "outputId": "7b12806b-dceb-4c23-e5ef-f65e2914a3c4"
   },
   "outputs": [],
   "source": [
    "rf_random.fit(X_train, y_train)"
   ]
  },
  {
   "cell_type": "code",
   "execution_count": null,
   "id": "693a732a",
   "metadata": {
    "colab": {
     "base_uri": "https://localhost:8080/",
     "height": 0
    },
    "id": "693a732a",
    "outputId": "cb742339-4f06-4148-e538-0c3ae4034a92"
   },
   "outputs": [],
   "source": [
    "rf_random.best_params_"
   ]
  },
  {
   "cell_type": "code",
   "execution_count": null,
   "id": "7TxJdRCRXWLG",
   "metadata": {
    "colab": {
     "base_uri": "https://localhost:8080/",
     "height": 0
    },
    "id": "7TxJdRCRXWLG",
    "outputId": "c5ef6fb2-6cd1-4ec6-b50a-ad91cabe6118"
   },
   "outputs": [],
   "source": [
    "best_random = rf_random.best_estimator_"
   ]
  },
  {
   "cell_type": "code",
   "execution_count": null,
   "id": "dc3b768c",
   "metadata": {},
   "outputs": [],
   "source": [
    "y_pred = best_random.predict(X_test)"
   ]
  },
  {
   "cell_type": "code",
   "execution_count": null,
   "id": "27cda8b0",
   "metadata": {
    "colab": {
     "base_uri": "https://localhost:8080/",
     "height": 0
    },
    "id": "27cda8b0",
    "outputId": "ce41bd85-0c09-4b72-b4b0-54576d371318"
   },
   "outputs": [],
   "source": [
    "print(\"R Sq. Score for Random Forest Regression :\", best_random.score(X_test, y_test))\n",
    "print(\"Adj. R Sq. Score for Random Forest Regression :\", 1 - (1 - best_random.score(X_test, y_test) ) * ( len(y_test) - 1 ) / ( len(y_test) - X_test.shape[1] - 1 ))"
   ]
  },
  {
   "cell_type": "code",
   "execution_count": null,
   "id": "vHtD8aelBif5",
   "metadata": {
    "colab": {
     "base_uri": "https://localhost:8080/",
     "height": 441
    },
    "id": "vHtD8aelBif5",
    "outputId": "a6fb39de-be0f-401c-f09d-e9ed8b228d37"
   },
   "outputs": [],
   "source": [
    "import matplotlib.pyplot as plt\n",
    "plt.rcParams[\"figure.figsize\"] = (30,8)\n",
    "plt.plot(y_pred[500:800], label='Predictions')\n",
    "plt.plot(y_test[500:800], label='Actual Sales')\n",
    "plt.legend(loc=\"upper left\")\n",
    "plt.savefig('final.png')\n",
    "plt.show()"
   ]
  }
 ],
 "metadata": {
  "colab": {
   "collapsed_sections": [],
   "name": "Phase 3.ipynb",
   "provenance": []
  },
  "kernelspec": {
   "display_name": "Python 3 (ipykernel)",
   "language": "python",
   "name": "python3"
  },
  "language_info": {
   "codemirror_mode": {
    "name": "ipython",
    "version": 3
   },
   "file_extension": ".py",
   "mimetype": "text/x-python",
   "name": "python",
   "nbconvert_exporter": "python",
   "pygments_lexer": "ipython3",
   "version": "3.12.4"
  }
 },
 "nbformat": 4,
 "nbformat_minor": 5
}
